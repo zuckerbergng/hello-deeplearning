{
 "cells": [
  {
   "cell_type": "markdown",
   "metadata": {},
   "source": [
    "# 加载数据集"
   ]
  },
  {
   "cell_type": "code",
   "execution_count": 2,
   "metadata": {},
   "outputs": [],
   "source": [
    "from keras.datasets import imdb\n",
    "(train_data, train_labels),(test_data, test_labels) = imdb.load_data(num_words=10000)"
   ]
  },
  {
   "cell_type": "markdown",
   "metadata": {},
   "source": []
  },
  {
   "cell_type": "code",
   "execution_count": 3,
   "metadata": {},
   "outputs": [],
   "source": [
    "word_index=imdb.get_word_index()\n",
    "reverse_word_index = dict(\n",
    "                            [(value, key) for (key, value) in word_index.items()])\n",
    "\n",
    "decoded_review = ' '.join(\n",
    "                            [reverse_word_index.get(i -3, '?') for i in train_data[0]])\n",
    "\n"
   ]
  },
  {
   "cell_type": "code",
   "execution_count": 4,
   "metadata": {},
   "outputs": [],
   "source": [
    "import numpy as np\n",
    "def vectorize_sequences(sequences, dimension=10000):\n",
    "    results = np.zeros((len(sequences), dimension))\n",
    "    for i, sequence in enumerate(sequences):\n",
    "        results[i, sequence] = 1.\n",
    "    return results\n",
    "\n",
    "x_train = vectorize_sequences(train_data)\n",
    "x_test = vectorize_sequences(test_data)\n",
    "\n",
    "y_train = np.asarray(train_labels).astype('float32')\n",
    "y_test = np.asarray(test_labels).astype('float32')"
   ]
  },
  {
   "cell_type": "code",
   "execution_count": null,
   "metadata": {},
   "outputs": [],
   "source": []
  },
  {
   "cell_type": "code",
   "execution_count": 5,
   "metadata": {},
   "outputs": [],
   "source": [
    "from keras import models\n",
    "from keras import layers\n",
    "\n",
    "model = models.Sequential()\n",
    "model.add(layers.Dense(16, activation = 'relu', input_shape = (10000,)))\n",
    "model.add(layers.Dense(16, activation = 'relu',))\n",
    "model.add(layers.Dense(1, activation = 'sigmoid'))\n"
   ]
  },
  {
   "cell_type": "code",
   "execution_count": null,
   "metadata": {},
   "outputs": [],
   "source": []
  },
  {
   "cell_type": "code",
   "execution_count": null,
   "metadata": {},
   "outputs": [],
   "source": []
  },
  {
   "cell_type": "code",
   "execution_count": 6,
   "metadata": {},
   "outputs": [],
   "source": [
    "model.compile(optimizer = 'rmsprop',\n",
    "              loss = 'binary_crossentropy',\n",
    "              metrics = ['accuracy'])"
   ]
  },
  {
   "cell_type": "code",
   "execution_count": null,
   "metadata": {},
   "outputs": [],
   "source": []
  },
  {
   "cell_type": "code",
   "execution_count": 7,
   "metadata": {},
   "outputs": [],
   "source": [
    "from keras import optimizers\n",
    "\n",
    "model.compile(optimizer = optimizers.RMSprop(lr = 0.001),\n",
    "              loss = 'binary_crossentropy',\n",
    "              metrics = ['accuracy'])"
   ]
  },
  {
   "cell_type": "code",
   "execution_count": null,
   "metadata": {},
   "outputs": [],
   "source": []
  },
  {
   "cell_type": "code",
   "execution_count": null,
   "metadata": {},
   "outputs": [],
   "source": []
  },
  {
   "cell_type": "code",
   "execution_count": 8,
   "metadata": {},
   "outputs": [],
   "source": [
    "from keras import losses\n",
    "from keras import metrics\n",
    "\n",
    "model.compile(optimizer = optimizers.RMSprop(lr = 0.001),\n",
    "              loss = losses.binary_crossentropy,\n",
    "              metrics = [metrics.binary_accuracy]\n",
    "             )"
   ]
  },
  {
   "cell_type": "code",
   "execution_count": null,
   "metadata": {},
   "outputs": [],
   "source": []
  },
  {
   "cell_type": "code",
   "execution_count": null,
   "metadata": {},
   "outputs": [],
   "source": []
  },
  {
   "cell_type": "code",
   "execution_count": 9,
   "metadata": {},
   "outputs": [],
   "source": [
    "x_val = x_train[:10000]\n",
    "partial_x_train = x_train[10000:]\n",
    "\n",
    "y_val = y_train[:10000]\n",
    "partial_y_train = y_train[10000:]"
   ]
  },
  {
   "cell_type": "code",
   "execution_count": null,
   "metadata": {},
   "outputs": [],
   "source": []
  },
  {
   "cell_type": "code",
   "execution_count": null,
   "metadata": {},
   "outputs": [],
   "source": []
  },
  {
   "cell_type": "code",
   "execution_count": 10,
   "metadata": {},
   "outputs": [
    {
     "name": "stdout",
     "output_type": "stream",
     "text": [
      "Epoch 1/20\n",
      "30/30 [==============================] - 1s 34ms/step - loss: 0.5071 - acc: 0.7898 - val_loss: 0.3796 - val_acc: 0.8714\n",
      "Epoch 2/20\n",
      "30/30 [==============================] - 0s 15ms/step - loss: 0.2999 - acc: 0.9059 - val_loss: 0.3006 - val_acc: 0.8891\n",
      "Epoch 3/20\n",
      "30/30 [==============================] - 0s 14ms/step - loss: 0.2241 - acc: 0.9275 - val_loss: 0.2851 - val_acc: 0.8885\n",
      "Epoch 4/20\n",
      "30/30 [==============================] - 0s 15ms/step - loss: 0.1750 - acc: 0.9432 - val_loss: 0.2858 - val_acc: 0.8837\n",
      "Epoch 5/20\n",
      "30/30 [==============================] - 0s 13ms/step - loss: 0.1441 - acc: 0.9545 - val_loss: 0.2995 - val_acc: 0.8818\n",
      "Epoch 6/20\n",
      "30/30 [==============================] - 0s 13ms/step - loss: 0.1209 - acc: 0.9623 - val_loss: 0.2911 - val_acc: 0.8879\n",
      "Epoch 7/20\n",
      "30/30 [==============================] - 0s 13ms/step - loss: 0.0994 - acc: 0.9697 - val_loss: 0.3266 - val_acc: 0.8781\n",
      "Epoch 8/20\n",
      "30/30 [==============================] - 0s 13ms/step - loss: 0.0847 - acc: 0.9755 - val_loss: 0.3234 - val_acc: 0.8817\n",
      "Epoch 9/20\n",
      "30/30 [==============================] - 0s 13ms/step - loss: 0.0702 - acc: 0.9814 - val_loss: 0.3559 - val_acc: 0.8803\n",
      "Epoch 10/20\n",
      "30/30 [==============================] - 0s 13ms/step - loss: 0.0578 - acc: 0.9864 - val_loss: 0.3890 - val_acc: 0.8766\n",
      "Epoch 11/20\n",
      "30/30 [==============================] - 0s 13ms/step - loss: 0.0480 - acc: 0.9888 - val_loss: 0.4108 - val_acc: 0.8767\n",
      "Epoch 12/20\n",
      "30/30 [==============================] - 0s 14ms/step - loss: 0.0380 - acc: 0.9921 - val_loss: 0.4878 - val_acc: 0.8579\n",
      "Epoch 13/20\n",
      "30/30 [==============================] - 0s 15ms/step - loss: 0.0329 - acc: 0.9933 - val_loss: 0.4484 - val_acc: 0.8745\n",
      "Epoch 14/20\n",
      "30/30 [==============================] - 0s 14ms/step - loss: 0.0248 - acc: 0.9957 - val_loss: 0.5212 - val_acc: 0.8602\n",
      "Epoch 15/20\n",
      "30/30 [==============================] - 0s 14ms/step - loss: 0.0219 - acc: 0.9964 - val_loss: 0.5126 - val_acc: 0.8710\n",
      "Epoch 16/20\n",
      "30/30 [==============================] - 0s 13ms/step - loss: 0.0145 - acc: 0.9986 - val_loss: 0.5477 - val_acc: 0.8685\n",
      "Epoch 17/20\n",
      "30/30 [==============================] - 0s 16ms/step - loss: 0.0149 - acc: 0.9971 - val_loss: 0.5861 - val_acc: 0.8688\n",
      "Epoch 18/20\n",
      "30/30 [==============================] - 0s 13ms/step - loss: 0.0077 - acc: 0.9997 - val_loss: 0.6273 - val_acc: 0.8699\n",
      "Epoch 19/20\n",
      "30/30 [==============================] - 0s 16ms/step - loss: 0.0108 - acc: 0.9980 - val_loss: 0.6550 - val_acc: 0.8660\n",
      "Epoch 20/20\n",
      "30/30 [==============================] - 0s 13ms/step - loss: 0.0047 - acc: 0.9997 - val_loss: 0.6889 - val_acc: 0.8662\n"
     ]
    }
   ],
   "source": [
    "model.compile(optimizer = 'rmsprop',\n",
    "              loss = 'binary_crossentropy',\n",
    "              metrics = ['acc'])\n",
    "\n",
    "history = model.fit(partial_x_train,\n",
    "                    partial_y_train,\n",
    "                    epochs=20,\n",
    "                    batch_size =512,\n",
    "                    validation_data = (x_val,y_val))"
   ]
  },
  {
   "cell_type": "code",
   "execution_count": 11,
   "metadata": {},
   "outputs": [
    {
     "data": {
      "image/png": "[encoded data removed]",
      "text/plain": [
       "<Figure size 432x288 with 1 Axes>"
      ]
     },
     "metadata": {
      "needs_background": "light"
     },
     "output_type": "display_data"
    }
   ],
   "source": [
    "import matplotlib.pyplot as plt\n",
    "\n",
    "history_dict = history.history\n",
    "loss_values = history_dict['loss']\n",
    "val_loss_values = history_dict['val_loss']\n",
    "\n",
    "epochs = range(1, len(loss_values)+1)\n",
    "\n",
    "plt.plot(epochs, loss_values, 'bo', label='Training loss')\n",
    "plt.plot(epochs, val_loss_values, 'b', label='Validation loss')\n",
    "plt.title('Training and validition loss')\n",
    "plt.xlabel('Epochs')\n",
    "plt.ylabel('Loss')\n",
    "plt.legend()\n",
    "\n",
    "plt.show()"
   ]
  },
  {
   "cell_type": "code",
   "execution_count": null,
   "metadata": {},
   "outputs": [],
   "source": []
  },
  {
   "cell_type": "code",
   "execution_count": null,
   "metadata": {},
   "outputs": [],
   "source": []
  },
  {
   "cell_type": "code",
   "execution_count": 13,
   "metadata": {},
   "outputs": [
    {
     "data": {
      "image/png": "[encoded data removed]",
      "text/plain": [
       "<Figure size 432x288 with 1 Axes>"
      ]
     },
     "metadata": {
      "needs_background": "light"
     },
     "output_type": "display_data"
    }
   ],
   "source": [
    "plt.clf()\n",
    "acc = history_dict['acc']\n",
    "val_acc = history_dict['val_acc']\n",
    "\n",
    "plt.plot(epochs, acc, 'bo', label = 'Training acc')\n",
    "plt.plot(epochs, val_acc, 'b', label = 'Validition acc')\n",
    "plt.title('Training and validition accuracy')\n",
    "plt.xlabel('Epochs')\n",
    "plt.ylabel('Accuracy')\n",
    "plt.legend()\n",
    "\n",
    "plt.show()"
   ]
  },
  {
   "cell_type": "code",
   "execution_count": null,
   "metadata": {},
   "outputs": [],
   "source": []
  },
  {
   "cell_type": "code",
   "execution_count": null,
   "metadata": {},
   "outputs": [],
   "source": []
  },
  {
   "cell_type": "code",
   "execution_count": null,
   "metadata": {},
   "outputs": [],
   "source": [
    "model = models.Sequential()\n",
    "model.add(layers.Dense(16, activation = 'relu', input_shape=(10000,)))\n",
    "model.add(layers.Dense(16, activation = 'relu'))\n",
    "model.add(layers.Dense(1, activation = 'sigmoid'))\n",
    "\n",
    "mdodel.compile(optimizer = 'rmsprop',\n",
    "              loss = 'binary_crossentropy',\n",
    "              metrics = ['accuracy'])\n",
    "\n",
    "model.compile(x_train, y_train, epochs = 4, batch_)"
   ]
  }
 ],
 "metadata": {
  "kernelspec": {
   "display_name": "Python 3",
   "language": "python",
   "name": "python3"
  },
  "language_info": {
   "codemirror_mode": {
    "name": "ipython",
    "version": 3
   },
   "file_extension": ".py",
   "mimetype": "text/x-python",
   "name": "python",
   "nbconvert_exporter": "python",
   "pygments_lexer": "ipython3",
   "version": "3.7.0b3"
  }
 },
 "nbformat": 4,
 "nbformat_minor": 4
}
